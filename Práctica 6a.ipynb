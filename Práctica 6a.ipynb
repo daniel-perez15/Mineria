{
 "cells": [
  {
   "cell_type": "markdown",
   "metadata": {},
   "source": [
    "# Práctica 6a: medidas de distancia para el análisis de clustering en R"
   ]
  },
  {
   "cell_type": "code",
   "execution_count": 39,
   "metadata": {},
   "outputs": [],
   "source": [
    "data(\"mtcars\") # Load the data set\n",
    "df <- mtcars"
   ]
  },
  {
   "cell_type": "code",
   "execution_count": 40,
   "metadata": {},
   "outputs": [
    {
     "name": "stdout",
     "output_type": "stream",
     "text": [
      "'data.frame':\t32 obs. of  11 variables:\n",
      " $ mpg : num  21 21 22.8 21.4 18.7 18.1 14.3 24.4 22.8 19.2 ...\n",
      " $ cyl : num  6 6 4 6 8 6 8 4 4 6 ...\n",
      " $ disp: num  160 160 108 258 360 ...\n",
      " $ hp  : num  110 110 93 110 175 105 245 62 95 123 ...\n",
      " $ drat: num  3.9 3.9 3.85 3.08 3.15 2.76 3.21 3.69 3.92 3.92 ...\n",
      " $ wt  : num  2.62 2.88 2.32 3.21 3.44 ...\n",
      " $ qsec: num  16.5 17 18.6 19.4 17 ...\n",
      " $ vs  : num  0 0 1 1 0 1 0 1 1 1 ...\n",
      " $ am  : num  1 1 1 0 0 0 0 0 0 0 ...\n",
      " $ gear: num  4 4 4 3 3 3 3 4 4 4 ...\n",
      " $ carb: num  4 4 1 1 2 1 4 2 2 4 ...\n"
     ]
    }
   ],
   "source": [
    "str(df)"
   ]
  },
  {
   "cell_type": "code",
   "execution_count": 41,
   "metadata": {},
   "outputs": [],
   "source": [
    "df <- na.omit(df)"
   ]
  },
  {
   "cell_type": "code",
   "execution_count": 42,
   "metadata": {},
   "outputs": [],
   "source": [
    "df <- scale(df)"
   ]
  },
  {
   "cell_type": "code",
   "execution_count": 43,
   "metadata": {},
   "outputs": [
    {
     "data": {
      "text/html": [
       "<table>\n",
       "<thead><tr><th></th><th scope=col>mpg</th><th scope=col>cyl</th><th scope=col>disp</th><th scope=col>hp</th><th scope=col>drat</th><th scope=col>wt</th><th scope=col>qsec</th><th scope=col>vs</th><th scope=col>am</th><th scope=col>gear</th><th scope=col>carb</th></tr></thead>\n",
       "<tbody>\n",
       "\t<tr><th scope=row>Mazda RX4</th><td>0.1508848 </td><td>-0.1049878</td><td>-0.5706198</td><td>-0.5350928</td><td>0.5675137 </td><td>-0.6103996</td><td>-0.7771651</td><td>-0.8680278</td><td>1.189901  </td><td>0.4235542 </td><td> 0.7352031</td></tr>\n",
       "\t<tr><th scope=row>Mazda RX4 Wag</th><td>0.1508848 </td><td>-0.1049878</td><td>-0.5706198</td><td>-0.5350928</td><td>0.5675137 </td><td>-0.3497853</td><td>-0.4637808</td><td>-0.8680278</td><td>1.189901  </td><td>0.4235542 </td><td> 0.7352031</td></tr>\n",
       "\t<tr><th scope=row>Datsun 710</th><td>0.4495434 </td><td>-1.2248578</td><td>-0.9901821</td><td>-0.7830405</td><td>0.4739996 </td><td>-0.9170046</td><td> 0.4260068</td><td> 1.1160357</td><td>1.189901  </td><td>0.4235542 </td><td>-1.1221521</td></tr>\n",
       "</tbody>\n",
       "</table>\n"
      ],
      "text/latex": [
       "\\begin{tabular}{r|lllllllllll}\n",
       "  & mpg & cyl & disp & hp & drat & wt & qsec & vs & am & gear & carb\\\\\n",
       "\\hline\n",
       "\tMazda RX4 & 0.1508848  & -0.1049878 & -0.5706198 & -0.5350928 & 0.5675137  & -0.6103996 & -0.7771651 & -0.8680278 & 1.189901   & 0.4235542  &  0.7352031\\\\\n",
       "\tMazda RX4 Wag & 0.1508848  & -0.1049878 & -0.5706198 & -0.5350928 & 0.5675137  & -0.3497853 & -0.4637808 & -0.8680278 & 1.189901   & 0.4235542  &  0.7352031\\\\\n",
       "\tDatsun 710 & 0.4495434  & -1.2248578 & -0.9901821 & -0.7830405 & 0.4739996  & -0.9170046 &  0.4260068 &  1.1160357 & 1.189901   & 0.4235542  & -1.1221521\\\\\n",
       "\\end{tabular}\n"
      ],
      "text/markdown": [
       "\n",
       "| <!--/--> | mpg | cyl | disp | hp | drat | wt | qsec | vs | am | gear | carb |\n",
       "|---|---|---|---|---|---|---|---|---|---|---|---|\n",
       "| Mazda RX4 | 0.1508848  | -0.1049878 | -0.5706198 | -0.5350928 | 0.5675137  | -0.6103996 | -0.7771651 | -0.8680278 | 1.189901   | 0.4235542  |  0.7352031 |\n",
       "| Mazda RX4 Wag | 0.1508848  | -0.1049878 | -0.5706198 | -0.5350928 | 0.5675137  | -0.3497853 | -0.4637808 | -0.8680278 | 1.189901   | 0.4235542  |  0.7352031 |\n",
       "| Datsun 710 | 0.4495434  | -1.2248578 | -0.9901821 | -0.7830405 | 0.4739996  | -0.9170046 |  0.4260068 |  1.1160357 | 1.189901   | 0.4235542  | -1.1221521 |\n",
       "\n"
      ],
      "text/plain": [
       "              mpg       cyl        disp       hp         drat      wt        \n",
       "Mazda RX4     0.1508848 -0.1049878 -0.5706198 -0.5350928 0.5675137 -0.6103996\n",
       "Mazda RX4 Wag 0.1508848 -0.1049878 -0.5706198 -0.5350928 0.5675137 -0.3497853\n",
       "Datsun 710    0.4495434 -1.2248578 -0.9901821 -0.7830405 0.4739996 -0.9170046\n",
       "              qsec       vs         am       gear      carb      \n",
       "Mazda RX4     -0.7771651 -0.8680278 1.189901 0.4235542  0.7352031\n",
       "Mazda RX4 Wag -0.4637808 -0.8680278 1.189901 0.4235542  0.7352031\n",
       "Datsun 710     0.4260068  1.1160357 1.189901 0.4235542 -1.1221521"
      ]
     },
     "metadata": {},
     "output_type": "display_data"
    }
   ],
   "source": [
    "head(df, n = 3)"
   ]
  },
  {
   "cell_type": "code",
   "execution_count": 44,
   "metadata": {},
   "outputs": [],
   "source": [
    "set.seed(123) #proponemos una semilla para que sea reproducible el experimento\n",
    "ss <- sample(1:32, 15) #tomamos 15 observaciones \n",
    "df <- mtcars[ss, ]  #creamos el subcojunto\n",
    "df.scaled <- scale(df) #estandarizamos los valores de las caracterícticas"
   ]
  },
  {
   "cell_type": "code",
   "execution_count": 45,
   "metadata": {},
   "outputs": [],
   "source": [
    "\n",
    "dist.eucl <- dist(df.scaled, method = \"euclidean\")"
   ]
  },
  {
   "cell_type": "code",
   "execution_count": 46,
   "metadata": {},
   "outputs": [
    {
     "data": {
      "text/html": [
       "<table>\n",
       "<thead><tr><th></th><th scope=col>Maserati Bora</th><th scope=col>Cadillac Fleetwood</th><th scope=col>Honda Civic</th></tr></thead>\n",
       "<tbody>\n",
       "\t<tr><th scope=row>Maserati Bora</th><td>0.0</td><td>5.2</td><td>7.4</td></tr>\n",
       "\t<tr><th scope=row>Cadillac Fleetwood</th><td>5.2</td><td>0.0</td><td>8.1</td></tr>\n",
       "\t<tr><th scope=row>Honda Civic</th><td>7.4</td><td>8.1</td><td>0.0</td></tr>\n",
       "</tbody>\n",
       "</table>\n"
      ],
      "text/latex": [
       "\\begin{tabular}{r|lll}\n",
       "  & Maserati Bora & Cadillac Fleetwood & Honda Civic\\\\\n",
       "\\hline\n",
       "\tMaserati Bora & 0.0 & 5.2 & 7.4\\\\\n",
       "\tCadillac Fleetwood & 5.2 & 0.0 & 8.1\\\\\n",
       "\tHonda Civic & 7.4 & 8.1 & 0.0\\\\\n",
       "\\end{tabular}\n"
      ],
      "text/markdown": [
       "\n",
       "| <!--/--> | Maserati Bora | Cadillac Fleetwood | Honda Civic |\n",
       "|---|---|---|---|\n",
       "| Maserati Bora | 0.0 | 5.2 | 7.4 |\n",
       "| Cadillac Fleetwood | 5.2 | 0.0 | 8.1 |\n",
       "| Honda Civic | 7.4 | 8.1 | 0.0 |\n",
       "\n"
      ],
      "text/plain": [
       "                   Maserati Bora Cadillac Fleetwood Honda Civic\n",
       "Maserati Bora      0.0           5.2                7.4        \n",
       "Cadillac Fleetwood 5.2           0.0                8.1        \n",
       "Honda Civic        7.4           8.1                0.0        "
      ]
     },
     "metadata": {},
     "output_type": "display_data"
    }
   ],
   "source": [
    "round(as.matrix(dist.eucl)[1:3, 1:3], 1)"
   ]
  },
  {
   "cell_type": "code",
   "execution_count": 47,
   "metadata": {},
   "outputs": [],
   "source": [
    "library(cluster)"
   ]
  },
  {
   "cell_type": "code",
   "execution_count": 48,
   "metadata": {},
   "outputs": [
    {
     "data": {
      "text/plain": [
       "      destination\n",
       "origin  1  2  3  4  5  6  7  8\n",
       "     1 50 19 26  8  7 11  6  2\n",
       "     2 16 40 34 18 11 20  8  3\n",
       "     3 12 35 65 66 35 88 23 21"
      ]
     },
     "metadata": {},
     "output_type": "display_data"
    }
   ],
   "source": [
    "data(occupationalStatus) \n",
    "head(occupationalStatus, 3)"
   ]
  },
  {
   "cell_type": "code",
   "execution_count": 50,
   "metadata": {},
   "outputs": [
    {
     "name": "stdout",
     "output_type": "stream",
     "text": [
      " 'table' int [1:8, 1:8] 50 16 12 11 2 12 0 0 19 40 ...\n",
      " - attr(*, \"dimnames\")=List of 2\n",
      "  ..$ origin     : chr [1:8] \"1\" \"2\" \"3\" \"4\" ...\n",
      "  ..$ destination: chr [1:8] \"1\" \"2\" \"3\" \"4\" ...\n"
     ]
    }
   ],
   "source": [
    "str(occupationalStatus)"
   ]
  },
  {
   "cell_type": "code",
   "execution_count": 52,
   "metadata": {},
   "outputs": [
    {
     "data": {
      "text/html": [
       "<table>\n",
       "<thead><tr><th scope=col>1</th><th scope=col>2</th><th scope=col>3</th></tr></thead>\n",
       "<tbody>\n",
       "\t<tr><td>  0.00</td><td>43.16 </td><td>118.10</td></tr>\n",
       "\t<tr><td> 43.16</td><td> 0.00 </td><td> 95.16</td></tr>\n",
       "\t<tr><td>118.10</td><td>95.16 </td><td>  0.00</td></tr>\n",
       "</tbody>\n",
       "</table>\n"
      ],
      "text/latex": [
       "\\begin{tabular}{r|lll}\n",
       " 1 & 2 & 3\\\\\n",
       "\\hline\n",
       "\t   0.00 & 43.16  & 118.10\\\\\n",
       "\t  43.16 &  0.00  &  95.16\\\\\n",
       "\t 118.10 & 95.16  &   0.00\\\\\n",
       "\\end{tabular}\n"
      ],
      "text/markdown": [
       "\n",
       "| 1 | 2 | 3 |\n",
       "|---|---|---|\n",
       "|   0.00 | 43.16  | 118.10 |\n",
       "|  43.16 |  0.00  |  95.16 |\n",
       "| 118.10 | 95.16  |   0.00 |\n",
       "\n"
      ],
      "text/plain": [
       "  1      2     3     \n",
       "1   0.00 43.16 118.10\n",
       "2  43.16  0.00  95.16\n",
       "3 118.10 95.16   0.00"
      ]
     },
     "metadata": {},
     "output_type": "display_data"
    }
   ],
   "source": [
    "dd <- daisy(occupationalStatus) \n",
    "round(as.matrix(dd)[1:3, 1:3], 2)"
   ]
  },
  {
   "cell_type": "code",
   "execution_count": 57,
   "metadata": {},
   "outputs": [
    {
     "ename": "ERROR",
     "evalue": "Error in library(\"factoextra\"): there is no package called 'factoextra'\n",
     "output_type": "error",
     "traceback": [
      "Error in library(\"factoextra\"): there is no package called 'factoextra'\nTraceback:\n",
      "1. library(\"factoextra\")"
     ]
    }
   ],
   "source": [
    "library(\"factoextra\") \n",
    "fviz_dist(dist.eucl)\n",
    "#Rojo: alta similaridad \n",
    "#Azil: baja similaridad"
   ]
  },
  {
   "cell_type": "markdown",
   "metadata": {},
   "source": [
    "Lo siento no pude encontrar la forma de usar esa función\n"
   ]
  },
  {
   "cell_type": "code",
   "execution_count": null,
   "metadata": {},
   "outputs": [],
   "source": []
  }
 ],
 "metadata": {
  "kernelspec": {
   "display_name": "R",
   "language": "R",
   "name": "ir"
  },
  "language_info": {
   "codemirror_mode": "r",
   "file_extension": ".r",
   "mimetype": "text/x-r-source",
   "name": "R",
   "pygments_lexer": "r",
   "version": "3.6.1"
  }
 },
 "nbformat": 4,
 "nbformat_minor": 4
}
