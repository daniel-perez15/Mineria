{
 "cells": [
  {
   "cell_type": "markdown",
   "metadata": {},
   "source": [
    "# Regresión Lineal\n",
    "\n",
    "A grandes rasgos la regresion lineal es un algoritmo que hace una estimación o prediccion de algun valor mediante registros pasados, por ejemplo: el clima.\n",
    "\n",
    "La regresión lineal puede usar el método del gradiente descendente que ayuda a minimizar el error asi como el método de los mínimos cuadrados.\n",
    "\n",
    "La fórmula para la regresión lineal con una sola variable x es:\n",
    "\n",
    "y=wx+b\n",
    "\n",
    "\n",
    "Algoritmo obtenido de:\n",
    "Data Science Algorithms in a Week \n",
    "\n",
    "Dávid Natingga\n",
    "\n",
    "BIRMINGHAM - MUMBAI\n"
   ]
  },
  {
   "cell_type": "markdown",
   "metadata": {},
   "source": [
    "# Ejercicio\n",
    "\n",
    "Intentaremos predecir el peso de varias personas mediante la talla y peso de otras"
   ]
  },
  {
   "cell_type": "code",
   "execution_count": 86,
   "metadata": {},
   "outputs": [],
   "source": [
    "import math\n",
    "import sys\n",
    "sys.path.append(\"./common\")\n",
    "import common"
   ]
  },
  {
   "cell_type": "code",
   "execution_count": 87,
   "metadata": {},
   "outputs": [],
   "source": [
    "# Se calcula el gradiente para el parametro que se debe actualizar\n",
    "def linear_gradient(data, old_parameter):\n",
    "    gradient = [0.0, 0.0]\n",
    "    for (x, y) in data:\n",
    "        term = float(y) - old_parameter[0] - old_parameter[1] * float(x)\n",
    "        gradient[0] += term\n",
    "        gradient[1] += term * float(x)\n",
    "    return gradient"
   ]
  },
  {
   "cell_type": "code",
   "execution_count": 88,
   "metadata": {},
   "outputs": [],
   "source": [
    "#Esta funcion aplica el método del gradiente descendente para aprender el modelo lineal\n",
    "def learn_linear_parameter(data, learning_rate,\n",
    "                           acceptable_error, LIMIT):\n",
    "    parameter = [1.0, 1.0]\n",
    "    old_parameter = [1.0, 1.0]\n",
    "    for i in range(0, LIMIT):\n",
    "        gradient = linear_gradient(data, old_parameter)\n",
    "        # Update the parameter with the Least Mean Squares rule.\n",
    "        parameter[0] = old_parameter[0] + learning_rate * gradient[0]\n",
    "        parameter[1] = old_parameter[1] + learning_rate * gradient[1]\n",
    "        # Calculate the error between the two parameters to compare with\n",
    "        # the permissible error in order to determine if the calculation\n",
    "        # is suffiently accurate.\n",
    "        if abs(parameter[0] - old_parameter[0]) <= acceptable_error and abs(parameter[1] - old_parameter[1]) <= acceptable_error:\n",
    "            return parameter\n",
    "        old_parameter[0] = parameter[0]\n",
    "        old_parameter[1] = parameter[1]\n",
    "    return parameter\n"
   ]
  },
  {
   "cell_type": "code",
   "execution_count": 89,
   "metadata": {},
   "outputs": [],
   "source": [
    "# Calcula y basado en el modelo de regresion lienal\n",
    "def predict_unknown(data, linear_parameter):\n",
    "    for (x, y) in data:\n",
    "        print(x, linear_parameter[0] + linear_parameter[1] * float(x))\n"
   ]
  },
  {
   "cell_type": "code",
   "execution_count": 90,
   "metadata": {},
   "outputs": [
    {
     "name": "stdout",
     "output_type": "stream",
     "text": [
      "['height', 'weight']\n",
      "Datos antecesores(completos)\n",
      "[['180', '75'], ['174', '71'], ['184', '83'], ['168', '63'], ['178', '70']]\n",
      "Datos incompletos(a predecir)\n",
      "[['172', '?'], ['184', '?'], ['168', '?']]\n"
     ]
    }
   ],
   "source": [
    "path='height_weight.csv'\n",
    "# El numero maximo de iteraciones para el aloritmo\n",
    "LIMIT = 100\n",
    "# Parametros elegidos pra el problema dado\n",
    "learning_rate = 0.0000001\n",
    "acceptable_error = 0.001\n",
    "(heading, complete_data, incomplete_data,\n",
    " enquired_column) = common.csv_file_to_ordered_data(path)\n",
    "print(heading)\n",
    "print('Datos antecesores(completos)')\n",
    "print(complete_data)\n",
    "print('Datos incompletos(a predecir)')\n",
    "print(incomplete_data)"
   ]
  },
  {
   "cell_type": "code",
   "execution_count": 91,
   "metadata": {},
   "outputs": [
    {
     "name": "stdout",
     "output_type": "stream",
     "text": [
      "Modelo lineal:\n",
      "(p0,p1)=[0.9973244467951039, 0.5275948917027403]\n",
      "\n",
      "Predicciones basadas en el modelo lineal\n",
      "172 91.74364581966644\n",
      "184 98.07478452009933\n",
      "168 89.63326625285548\n"
     ]
    }
   ],
   "source": [
    "linear_parameter = learn_linear_parameter(\n",
    "    complete_data, learning_rate, acceptable_error, LIMIT)\n",
    "print(\"Modelo lineal:\\n(p0,p1)=\" + str(linear_parameter) + \"\\n\")\n",
    "\n",
    "print(\"Predicciones basadas en el modelo lineal\")\n",
    "predict_unknown(incomplete_data, linear_parameter)"
   ]
  },
  {
   "cell_type": "code",
   "execution_count": 98,
   "metadata": {},
   "outputs": [
    {
     "data": {
      "text/plain": [
       "Text(0, 0.5, 'peso')"
      ]
     },
     "execution_count": 98,
     "metadata": {},
     "output_type": "execute_result"
    },
    {
     "data": {
      "image/png": "[encoded data removed]",
      "text/plain": [
       "<Figure size 432x288 with 1 Axes>"
      ]
     },
     "metadata": {
      "needs_background": "light"
     },
     "output_type": "display_data"
    }
   ],
   "source": [
    "x=[]\n",
    "y=[]\n",
    "incomplete=[]\n",
    "for i in incomplete_data:\n",
    "    incomplete.append(i[0])\n",
    "for i in complete_data:\n",
    "    x.append(i[0])\n",
    "    y.append(i[1])\n",
    "plt.plot(x,y)\n",
    "plt.plot(incomplete,['91.74','98.074','89.63'],\"ro\")\n",
    "plt.plot(x,y,'ro')\n",
    "plt.xlabel('altura')\n",
    "plt.ylabel('peso')"
   ]
  },
  {
   "cell_type": "markdown",
   "metadata": {},
   "source": [
    "# Codigo en R\n",
    "hw = data.frame(\n",
    "  height = c(180,174,184,168,178), weight= c(75,71,83,63,70)\n",
    ")\n",
    "model =lm(weight ~ height, data= hw)\n",
    "\n",
    "print(model)\n",
    "\n",
    "with(hw,plot(height,weight,pch=3,xlab='altura',ylab='peso'))\n",
    "\n",
    "print(\"Altura 172\")\n",
    "\n",
    "print('Peso~=')\n",
    "\n",
    "print(1.132*172-127.688)\n",
    "\n",
    "print(\"Altura 184\")\n",
    "\n",
    "print('Peso~=')\n",
    "\n",
    "print(1.132*184-127.688)\n",
    "\n",
    "print(\"Altura 168\")\n",
    "\n",
    "print('Peso~=')\n",
    "\n",
    "print(1.132*168-127.688)\n",
    "\n",
    "altura=c(172,184,168)\n",
    "\n",
    "peso=c(67.016,80.6,62.48)\n",
    "\n",
    "points(altura,peso, pch=19,col=\"red\")"
   ]
  },
  {
   "cell_type": "markdown",
   "metadata": {},
   "source": [
    "# Resultados en consola de R\n",
    "\n",
    "Coefficients:\n",
    "(Intercept)       height  \n",
    "   -127.688        1.132  \n",
    "\n",
    "[1] \"Altura 172\"\n",
    "\n",
    "[1] \"Peso~=\"\n",
    "\n",
    "[1] 67.016\n",
    "\n",
    "[1] \"Altura 184\"\n",
    "\n",
    "[1] \"Peso~=\"\n",
    "\n",
    "[1] 80.6\n",
    "\n",
    "[1] \"Altura 168\"\n",
    "\n",
    "[1] \"Peso~=\"\n",
    "\n",
    "[1] 62.488"
   ]
  },
  {
   "cell_type": "markdown",
   "metadata": {},
   "source": [
    "Los puntos rojos representan las aproximaciones calculadas y las cruces los datos del entrenamiento\n",
    "![Gráfica](https://docs.google.com/uc?export=download&id=1wllI9IbmIEqUzA1ALAr0ea1E0utz2ZWM)"
   ]
  },
  {
   "cell_type": "markdown",
   "metadata": {},
   "source": [
    "# Conclusión\n",
    "\n",
    "En r la función lm nos genera mejores aproximaciones que el algoritmo que realizamos en python; en otras palabras nos conviene trabajar con R"
   ]
  },
  {
   "cell_type": "code",
   "execution_count": null,
   "metadata": {},
   "outputs": [],
   "source": []
  }
 ],
 "metadata": {
  "kernelspec": {
   "display_name": "Python 3",
   "language": "python",
   "name": "python3"
  },
  "language_info": {
   "codemirror_mode": {
    "name": "ipython",
    "version": 3
   },
   "file_extension": ".py",
   "mimetype": "text/x-python",
   "name": "python",
   "nbconvert_exporter": "python",
   "pygments_lexer": "ipython3",
   "version": "3.7.4"
  }
 },
 "nbformat": 4,
 "nbformat_minor": 2
}
