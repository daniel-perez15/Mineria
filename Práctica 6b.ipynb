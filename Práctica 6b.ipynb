{
 "cells": [
  {
   "cell_type": "markdown",
   "metadata": {},
   "source": [
    "# Práctica 6b: análisis de clustering de partición"
   ]
  },
  {
   "cell_type": "code",
   "execution_count": 13,
   "metadata": {},
   "outputs": [
    {
     "data": {
      "text/html": [
       "<ol>\n",
       "\t<li><ol class=list-inline>\n",
       "\t<li>'ggplot2'</li>\n",
       "\t<li>'cluster'</li>\n",
       "\t<li>'stats'</li>\n",
       "\t<li>'graphics'</li>\n",
       "\t<li>'grDevices'</li>\n",
       "\t<li>'utils'</li>\n",
       "\t<li>'datasets'</li>\n",
       "\t<li>'methods'</li>\n",
       "\t<li>'base'</li>\n",
       "</ol>\n",
       "</li>\n",
       "\t<li><ol class=list-inline>\n",
       "\t<li>'ggplot2'</li>\n",
       "\t<li>'cluster'</li>\n",
       "\t<li>'stats'</li>\n",
       "\t<li>'graphics'</li>\n",
       "\t<li>'grDevices'</li>\n",
       "\t<li>'utils'</li>\n",
       "\t<li>'datasets'</li>\n",
       "\t<li>'methods'</li>\n",
       "\t<li>'base'</li>\n",
       "</ol>\n",
       "</li>\n",
       "</ol>\n"
      ],
      "text/latex": [
       "\\begin{enumerate}\n",
       "\\item \\begin{enumerate*}\n",
       "\\item 'ggplot2'\n",
       "\\item 'cluster'\n",
       "\\item 'stats'\n",
       "\\item 'graphics'\n",
       "\\item 'grDevices'\n",
       "\\item 'utils'\n",
       "\\item 'datasets'\n",
       "\\item 'methods'\n",
       "\\item 'base'\n",
       "\\end{enumerate*}\n",
       "\n",
       "\\item \\begin{enumerate*}\n",
       "\\item 'ggplot2'\n",
       "\\item 'cluster'\n",
       "\\item 'stats'\n",
       "\\item 'graphics'\n",
       "\\item 'grDevices'\n",
       "\\item 'utils'\n",
       "\\item 'datasets'\n",
       "\\item 'methods'\n",
       "\\item 'base'\n",
       "\\end{enumerate*}\n",
       "\n",
       "\\end{enumerate}\n"
      ],
      "text/markdown": [
       "1. 1. 'ggplot2'\n",
       "2. 'cluster'\n",
       "3. 'stats'\n",
       "4. 'graphics'\n",
       "5. 'grDevices'\n",
       "6. 'utils'\n",
       "7. 'datasets'\n",
       "8. 'methods'\n",
       "9. 'base'\n",
       "\n",
       "\n",
       "\n",
       "2. 1. 'ggplot2'\n",
       "2. 'cluster'\n",
       "3. 'stats'\n",
       "4. 'graphics'\n",
       "5. 'grDevices'\n",
       "6. 'utils'\n",
       "7. 'datasets'\n",
       "8. 'methods'\n",
       "9. 'base'\n",
       "\n",
       "\n",
       "\n",
       "\n",
       "\n"
      ],
      "text/plain": [
       "[[1]]\n",
       "[1] \"ggplot2\"   \"cluster\"   \"stats\"     \"graphics\"  \"grDevices\" \"utils\"    \n",
       "[7] \"datasets\"  \"methods\"   \"base\"     \n",
       "\n",
       "[[2]]\n",
       "[1] \"ggplot2\"   \"cluster\"   \"stats\"     \"graphics\"  \"grDevices\" \"utils\"    \n",
       "[7] \"datasets\"  \"methods\"   \"base\"     \n"
      ]
     },
     "metadata": {},
     "output_type": "display_data"
    }
   ],
   "source": [
    "packages <- c(\"stats\", \"cluster\")\n",
    "lapply(packages, library, character.only = TRUE)"
   ]
  },
  {
   "cell_type": "code",
   "execution_count": 3,
   "metadata": {},
   "outputs": [
    {
     "data": {
      "text/html": [
       "<table>\n",
       "<thead><tr><th></th><th scope=col>mpg</th><th scope=col>cyl</th><th scope=col>disp</th><th scope=col>hp</th><th scope=col>drat</th><th scope=col>wt</th><th scope=col>qsec</th><th scope=col>vs</th><th scope=col>am</th><th scope=col>gear</th><th scope=col>carb</th></tr></thead>\n",
       "<tbody>\n",
       "\t<tr><th scope=row>Mazda RX4</th><td>0.1508848 </td><td>-0.1049878</td><td>-0.5706198</td><td>-0.5350928</td><td>0.5675137 </td><td>-0.6103996</td><td>-0.7771651</td><td>-0.8680278</td><td>1.189901  </td><td>0.4235542 </td><td> 0.7352031</td></tr>\n",
       "\t<tr><th scope=row>Mazda RX4 Wag</th><td>0.1508848 </td><td>-0.1049878</td><td>-0.5706198</td><td>-0.5350928</td><td>0.5675137 </td><td>-0.3497853</td><td>-0.4637808</td><td>-0.8680278</td><td>1.189901  </td><td>0.4235542 </td><td> 0.7352031</td></tr>\n",
       "\t<tr><th scope=row>Datsun 710</th><td>0.4495434 </td><td>-1.2248578</td><td>-0.9901821</td><td>-0.7830405</td><td>0.4739996 </td><td>-0.9170046</td><td> 0.4260068</td><td> 1.1160357</td><td>1.189901  </td><td>0.4235542 </td><td>-1.1221521</td></tr>\n",
       "</tbody>\n",
       "</table>\n"
      ],
      "text/latex": [
       "\\begin{tabular}{r|lllllllllll}\n",
       "  & mpg & cyl & disp & hp & drat & wt & qsec & vs & am & gear & carb\\\\\n",
       "\\hline\n",
       "\tMazda RX4 & 0.1508848  & -0.1049878 & -0.5706198 & -0.5350928 & 0.5675137  & -0.6103996 & -0.7771651 & -0.8680278 & 1.189901   & 0.4235542  &  0.7352031\\\\\n",
       "\tMazda RX4 Wag & 0.1508848  & -0.1049878 & -0.5706198 & -0.5350928 & 0.5675137  & -0.3497853 & -0.4637808 & -0.8680278 & 1.189901   & 0.4235542  &  0.7352031\\\\\n",
       "\tDatsun 710 & 0.4495434  & -1.2248578 & -0.9901821 & -0.7830405 & 0.4739996  & -0.9170046 &  0.4260068 &  1.1160357 & 1.189901   & 0.4235542  & -1.1221521\\\\\n",
       "\\end{tabular}\n"
      ],
      "text/markdown": [
       "\n",
       "| <!--/--> | mpg | cyl | disp | hp | drat | wt | qsec | vs | am | gear | carb |\n",
       "|---|---|---|---|---|---|---|---|---|---|---|---|\n",
       "| Mazda RX4 | 0.1508848  | -0.1049878 | -0.5706198 | -0.5350928 | 0.5675137  | -0.6103996 | -0.7771651 | -0.8680278 | 1.189901   | 0.4235542  |  0.7352031 |\n",
       "| Mazda RX4 Wag | 0.1508848  | -0.1049878 | -0.5706198 | -0.5350928 | 0.5675137  | -0.3497853 | -0.4637808 | -0.8680278 | 1.189901   | 0.4235542  |  0.7352031 |\n",
       "| Datsun 710 | 0.4495434  | -1.2248578 | -0.9901821 | -0.7830405 | 0.4739996  | -0.9170046 |  0.4260068 |  1.1160357 | 1.189901   | 0.4235542  | -1.1221521 |\n",
       "\n"
      ],
      "text/plain": [
       "              mpg       cyl        disp       hp         drat      wt        \n",
       "Mazda RX4     0.1508848 -0.1049878 -0.5706198 -0.5350928 0.5675137 -0.6103996\n",
       "Mazda RX4 Wag 0.1508848 -0.1049878 -0.5706198 -0.5350928 0.5675137 -0.3497853\n",
       "Datsun 710    0.4495434 -1.2248578 -0.9901821 -0.7830405 0.4739996 -0.9170046\n",
       "              qsec       vs         am       gear      carb      \n",
       "Mazda RX4     -0.7771651 -0.8680278 1.189901 0.4235542  0.7352031\n",
       "Mazda RX4 Wag -0.4637808 -0.8680278 1.189901 0.4235542  0.7352031\n",
       "Datsun 710     0.4260068  1.1160357 1.189901 0.4235542 -1.1221521"
      ]
     },
     "metadata": {},
     "output_type": "display_data"
    }
   ],
   "source": [
    "data(\"mtcars\") # Load the data set\n",
    "df <- scale(mtcars)\n",
    "head(df, n = 3)"
   ]
  },
  {
   "cell_type": "code",
   "execution_count": 4,
   "metadata": {},
   "outputs": [
    {
     "data": {
      "text/plain": [
       "K-means clustering with 3 clusters of sizes 11, 7, 14\n",
       "\n",
       "Cluster means:\n",
       "         mpg        cyl       disp         hp       drat          wt       qsec\n",
       "1  1.0906036 -1.2248578 -1.0132874 -0.9341957  0.8871619 -0.95203193  0.7210765\n",
       "2 -0.2639188  0.2149750 -0.1877116  0.4441961  0.4927024 -0.09282103 -0.7723684\n",
       "3 -0.7249434  0.8549007  0.8900102  0.5119129 -0.9434070  0.79443560 -0.1803759\n",
       "          vs         am       gear        carb\n",
       "1  0.9356663  0.6433438  0.5467699 -0.78445113\n",
       "2 -0.3011525  0.6173173  1.0044285  1.26587598\n",
       "3 -0.5845901 -0.8141431 -0.9318192 -0.01658353\n",
       "\n",
       "Clustering vector:\n",
       "          Mazda RX4       Mazda RX4 Wag          Datsun 710      Hornet 4 Drive \n",
       "                  2                   2                   1                   3 \n",
       "  Hornet Sportabout             Valiant          Duster 360           Merc 240D \n",
       "                  3                   3                   3                   1 \n",
       "           Merc 230            Merc 280           Merc 280C          Merc 450SE \n",
       "                  1                   2                   2                   3 \n",
       "         Merc 450SL         Merc 450SLC  Cadillac Fleetwood Lincoln Continental \n",
       "                  3                   3                   3                   3 \n",
       "  Chrysler Imperial            Fiat 128         Honda Civic      Toyota Corolla \n",
       "                  3                   1                   1                   1 \n",
       "      Toyota Corona    Dodge Challenger         AMC Javelin          Camaro Z28 \n",
       "                  1                   3                   3                   3 \n",
       "   Pontiac Firebird           Fiat X1-9       Porsche 914-2        Lotus Europa \n",
       "                  3                   1                   1                   1 \n",
       "     Ford Pantera L        Ferrari Dino       Maserati Bora          Volvo 142E \n",
       "                  2                   2                   2                   1 \n",
       "\n",
       "Within cluster sum of squares by cluster:\n",
       "[1] 42.65755 43.20915 45.78543\n",
       " (between_SS / total_SS =  61.4 %)\n",
       "\n",
       "Available components:\n",
       "\n",
       "[1] \"cluster\"      \"centers\"      \"totss\"        \"withinss\"     \"tot.withinss\"\n",
       "[6] \"betweenss\"    \"size\"         \"iter\"         \"ifault\"      "
      ]
     },
     "metadata": {},
     "output_type": "display_data"
    }
   ],
   "source": [
    "kmeans(df, 3, iter.max = 10, nstart = 1)"
   ]
  },
  {
   "cell_type": "code",
   "execution_count": 5,
   "metadata": {},
   "outputs": [
    {
     "data": {
      "text/html": [
       "<table>\n",
       "<thead><tr><th></th><th scope=col>mpg</th><th scope=col>cyl</th><th scope=col>disp</th><th scope=col>hp</th><th scope=col>drat</th><th scope=col>wt</th><th scope=col>qsec</th><th scope=col>vs</th><th scope=col>am</th><th scope=col>gear</th><th scope=col>carb</th></tr></thead>\n",
       "<tbody>\n",
       "\t<tr><th scope=row>Mazda RX4</th><td> 0.1508848  </td><td>-0.1049878  </td><td>-0.57061982 </td><td>-0.5350928  </td><td> 0.5675137  </td><td>-0.610399567</td><td>-0.7771651  </td><td>-0.8680278  </td><td> 1.1899014  </td><td> 0.4235542  </td><td> 0.7352031  </td></tr>\n",
       "\t<tr><th scope=row>Mazda RX4 Wag</th><td> 0.1508848  </td><td>-0.1049878  </td><td>-0.57061982 </td><td>-0.5350928  </td><td> 0.5675137  </td><td>-0.349785269</td><td>-0.4637808  </td><td>-0.8680278  </td><td> 1.1899014  </td><td> 0.4235542  </td><td> 0.7352031  </td></tr>\n",
       "\t<tr><th scope=row>Datsun 710</th><td> 0.4495434  </td><td>-1.2248578  </td><td>-0.99018209 </td><td>-0.7830405  </td><td> 0.4739996  </td><td>-0.917004624</td><td> 0.4260068  </td><td> 1.1160357  </td><td> 1.1899014  </td><td> 0.4235542  </td><td>-1.1221521  </td></tr>\n",
       "\t<tr><th scope=row>Hornet 4 Drive</th><td> 0.2172534  </td><td>-0.1049878  </td><td> 0.22009369 </td><td>-0.5350928  </td><td>-0.9661175  </td><td>-0.002299538</td><td> 0.8904872  </td><td> 1.1160357  </td><td>-0.8141431  </td><td>-0.9318192  </td><td>-1.1221521  </td></tr>\n",
       "\t<tr><th scope=row>Hornet Sportabout</th><td>-0.2307345  </td><td> 1.0148821  </td><td> 1.04308123 </td><td> 0.4129422  </td><td>-0.8351978  </td><td> 0.227654255</td><td>-0.4637808  </td><td>-0.8680278  </td><td>-0.8141431  </td><td>-0.9318192  </td><td>-0.5030337  </td></tr>\n",
       "\t<tr><th scope=row>Valiant</th><td>-0.3302874  </td><td>-0.1049878  </td><td>-0.04616698 </td><td>-0.6080186  </td><td>-1.5646078  </td><td> 0.248094592</td><td> 1.3269868  </td><td> 1.1160357  </td><td>-0.8141431  </td><td>-0.9318192  </td><td>-1.1221521  </td></tr>\n",
       "</tbody>\n",
       "</table>\n"
      ],
      "text/latex": [
       "\\begin{tabular}{r|lllllllllll}\n",
       "  & mpg & cyl & disp & hp & drat & wt & qsec & vs & am & gear & carb\\\\\n",
       "\\hline\n",
       "\tMazda RX4 &  0.1508848   & -0.1049878   & -0.57061982  & -0.5350928   &  0.5675137   & -0.610399567 & -0.7771651   & -0.8680278   &  1.1899014   &  0.4235542   &  0.7352031  \\\\\n",
       "\tMazda RX4 Wag &  0.1508848   & -0.1049878   & -0.57061982  & -0.5350928   &  0.5675137   & -0.349785269 & -0.4637808   & -0.8680278   &  1.1899014   &  0.4235542   &  0.7352031  \\\\\n",
       "\tDatsun 710 &  0.4495434   & -1.2248578   & -0.99018209  & -0.7830405   &  0.4739996   & -0.917004624 &  0.4260068   &  1.1160357   &  1.1899014   &  0.4235542   & -1.1221521  \\\\\n",
       "\tHornet 4 Drive &  0.2172534   & -0.1049878   &  0.22009369  & -0.5350928   & -0.9661175   & -0.002299538 &  0.8904872   &  1.1160357   & -0.8141431   & -0.9318192   & -1.1221521  \\\\\n",
       "\tHornet Sportabout & -0.2307345   &  1.0148821   &  1.04308123  &  0.4129422   & -0.8351978   &  0.227654255 & -0.4637808   & -0.8680278   & -0.8141431   & -0.9318192   & -0.5030337  \\\\\n",
       "\tValiant & -0.3302874   & -0.1049878   & -0.04616698  & -0.6080186   & -1.5646078   &  0.248094592 &  1.3269868   &  1.1160357   & -0.8141431   & -0.9318192   & -1.1221521  \\\\\n",
       "\\end{tabular}\n"
      ],
      "text/markdown": [
       "\n",
       "| <!--/--> | mpg | cyl | disp | hp | drat | wt | qsec | vs | am | gear | carb |\n",
       "|---|---|---|---|---|---|---|---|---|---|---|---|\n",
       "| Mazda RX4 |  0.1508848   | -0.1049878   | -0.57061982  | -0.5350928   |  0.5675137   | -0.610399567 | -0.7771651   | -0.8680278   |  1.1899014   |  0.4235542   |  0.7352031   |\n",
       "| Mazda RX4 Wag |  0.1508848   | -0.1049878   | -0.57061982  | -0.5350928   |  0.5675137   | -0.349785269 | -0.4637808   | -0.8680278   |  1.1899014   |  0.4235542   |  0.7352031   |\n",
       "| Datsun 710 |  0.4495434   | -1.2248578   | -0.99018209  | -0.7830405   |  0.4739996   | -0.917004624 |  0.4260068   |  1.1160357   |  1.1899014   |  0.4235542   | -1.1221521   |\n",
       "| Hornet 4 Drive |  0.2172534   | -0.1049878   |  0.22009369  | -0.5350928   | -0.9661175   | -0.002299538 |  0.8904872   |  1.1160357   | -0.8141431   | -0.9318192   | -1.1221521   |\n",
       "| Hornet Sportabout | -0.2307345   |  1.0148821   |  1.04308123  |  0.4129422   | -0.8351978   |  0.227654255 | -0.4637808   | -0.8680278   | -0.8141431   | -0.9318192   | -0.5030337   |\n",
       "| Valiant | -0.3302874   | -0.1049878   | -0.04616698  | -0.6080186   | -1.5646078   |  0.248094592 |  1.3269868   |  1.1160357   | -0.8141431   | -0.9318192   | -1.1221521   |\n",
       "\n"
      ],
      "text/plain": [
       "                  mpg        cyl        disp        hp         drat      \n",
       "Mazda RX4          0.1508848 -0.1049878 -0.57061982 -0.5350928  0.5675137\n",
       "Mazda RX4 Wag      0.1508848 -0.1049878 -0.57061982 -0.5350928  0.5675137\n",
       "Datsun 710         0.4495434 -1.2248578 -0.99018209 -0.7830405  0.4739996\n",
       "Hornet 4 Drive     0.2172534 -0.1049878  0.22009369 -0.5350928 -0.9661175\n",
       "Hornet Sportabout -0.2307345  1.0148821  1.04308123  0.4129422 -0.8351978\n",
       "Valiant           -0.3302874 -0.1049878 -0.04616698 -0.6080186 -1.5646078\n",
       "                  wt           qsec       vs         am         gear      \n",
       "Mazda RX4         -0.610399567 -0.7771651 -0.8680278  1.1899014  0.4235542\n",
       "Mazda RX4 Wag     -0.349785269 -0.4637808 -0.8680278  1.1899014  0.4235542\n",
       "Datsun 710        -0.917004624  0.4260068  1.1160357  1.1899014  0.4235542\n",
       "Hornet 4 Drive    -0.002299538  0.8904872  1.1160357 -0.8141431 -0.9318192\n",
       "Hornet Sportabout  0.227654255 -0.4637808 -0.8680278 -0.8141431 -0.9318192\n",
       "Valiant            0.248094592  1.3269868  1.1160357 -0.8141431 -0.9318192\n",
       "                  carb      \n",
       "Mazda RX4          0.7352031\n",
       "Mazda RX4 Wag      0.7352031\n",
       "Datsun 710        -1.1221521\n",
       "Hornet 4 Drive    -1.1221521\n",
       "Hornet Sportabout -0.5030337\n",
       "Valiant           -1.1221521"
      ]
     },
     "metadata": {},
     "output_type": "display_data"
    }
   ],
   "source": [
    "# Standardize the data\n",
    "df <- scale(mtcars) \n",
    "head(df)"
   ]
  },
  {
   "cell_type": "code",
   "execution_count": 11,
   "metadata": {},
   "outputs": [],
   "source": []
  },
  {
   "cell_type": "code",
   "execution_count": 20,
   "metadata": {},
   "outputs": [
    {
     "ename": "ERROR",
     "evalue": "Error in fviz_nbclust(df, kmeans, method = \"wss\"): no se pudo encontrar la función \"fviz_nbclust\"\n",
     "output_type": "error",
     "traceback": [
      "Error in fviz_nbclust(df, kmeans, method = \"wss\"): no se pudo encontrar la función \"fviz_nbclust\"\nTraceback:\n"
     ]
    }
   ],
   "source": [
    "# Elbow method\n",
    "fviz_nbclust(df, kmeans, method = \"wss\") + geom_vline(xintercept = 4, linetype = 2) + labs(subtitle = \"Elbow method\")"
   ]
  },
  {
   "cell_type": "code",
   "execution_count": 18,
   "metadata": {},
   "outputs": [
    {
     "ename": "ERROR",
     "evalue": "Error in library(\"NbClust\"): there is no package called 'NbClust'\n",
     "output_type": "error",
     "traceback": [
      "Error in library(\"NbClust\"): there is no package called 'NbClust'\nTraceback:\n",
      "1. library(\"NbClust\")"
     ]
    }
   ],
   "source": [
    "library(\"NbClust\")\n",
    "nb <- NbClust(df, distance = \"euclidean\", min.nc = 2, max.nc = 10, method = \"kmeans\")"
   ]
  },
  {
   "cell_type": "code",
   "execution_count": 19,
   "metadata": {},
   "outputs": [
    {
     "ename": "ERROR",
     "evalue": "Error in library(\"factoextra\"): there is no package called 'factoextra'\n",
     "output_type": "error",
     "traceback": [
      "Error in library(\"factoextra\"): there is no package called 'factoextra'\nTraceback:\n",
      "1. library(\"factoextra\")"
     ]
    }
   ],
   "source": [
    "library(\"factoextra\") \n",
    "fviz_nbclust(nb)\n"
   ]
  },
  {
   "cell_type": "markdown",
   "metadata": {},
   "source": [
    "Profe la neta no supe como intalar las librerias que ocupa, cada vez que tratao de utlizarlas me da error y ya busque como tratar de instalarlas y nadamas no puedo "
   ]
  },
  {
   "cell_type": "code",
   "execution_count": null,
   "metadata": {},
   "outputs": [],
   "source": []
  }
 ],
 "metadata": {
  "kernelspec": {
   "display_name": "R",
   "language": "R",
   "name": "ir"
  },
  "language_info": {
   "codemirror_mode": "r",
   "file_extension": ".r",
   "mimetype": "text/x-r-source",
   "name": "R",
   "pygments_lexer": "r",
   "version": "3.6.1"
  }
 },
 "nbformat": 4,
 "nbformat_minor": 4
}
